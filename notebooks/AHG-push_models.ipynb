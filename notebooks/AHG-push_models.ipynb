{
 "cells": [
  {
   "cell_type": "code",
   "execution_count": 2,
   "metadata": {},
   "outputs": [
    {
     "name": "stdout",
     "output_type": "stream",
     "text": [
      "Using device: cuda\n",
      "1\n",
      "NVIDIA A10\n"
     ]
    }
   ],
   "source": [
    "import json\n",
    "import torch\n",
    "import torchvision\n",
    "from torch import nn\n",
    "from diffusers import UNet2DModel, DDPMScheduler\n",
    "\n",
    "\n",
    "import safetensors\n",
    "from huggingface_hub import hf_hub_download\n",
    "from huggingface_hub import HfApi, create_repo, get_full_repo_name, ModelCard\n",
    "from huggingface_hub import notebook_login\n",
    "\n",
    "from matplotlib import pyplot as plt\n",
    "from tqdm.auto import tqdm\n",
    "\n",
    "\n",
    "device = 'mps' if torch.backends.mps.is_available() else 'cuda' if torch.cuda.is_available() else 'cpu'\n",
    "print(f'Using device: {device}')\n",
    "# Número de GPUs disponibles\n",
    "print(torch.cuda.device_count())\n",
    "\n",
    "# Nombre de cada GPU\n",
    "for i in range(torch.cuda.device_count()):\n",
    "    print(torch.cuda.get_device_name(i))\n"
   ]
  },
  {
   "cell_type": "markdown",
   "metadata": {},
   "source": [
    "## Define CustomModel class\n",
    "```python"
   ]
  },
  {
   "cell_type": "code",
   "execution_count": 2,
   "metadata": {},
   "outputs": [],
   "source": [
    "\n",
    "\n",
    "class ClassConditionedUnet(nn.Module):\n",
    "  def __init__(self, num_classes=10, class_emb_size=10):\n",
    "    super().__init__()\n",
    "\n",
    "    # The embedding layer will map the class label to a vector of size class_emb_size\n",
    "    self.class_emb = nn.Embedding(num_classes, class_emb_size)\n",
    "\n",
    "    # Self.model is an unconditional UNet with extra input channels\n",
    "    # to accept the conditioning information (the class embedding)\n",
    "    self.model = UNet2DModel(\n",
    "        sample_size=28,           # output image resolution. Equal to input resolution\n",
    "        in_channels=1 + class_emb_size, # Additional input channels for class cond\n",
    "        out_channels=1,           # the number of output channels. Equal to input\n",
    "        layers_per_block=3,       # three residual connections (ResNet) per block\n",
    "        block_out_channels=(128, 256, 512), # N of output channels for each block. Inverse for upsampling\n",
    "        down_block_types=(\n",
    "            \"DownBlock2D\",  # a regular ResNet downsampling block\n",
    "            \"AttnDownBlock2D\",\n",
    "            \"AttnDownBlock2D\",  # a ResNet downsampling block with spatial self-attention\n",
    "        ),\n",
    "        up_block_types=(\n",
    "            \"AttnUpBlock2D\",  # a ResNet upsampling block with spatial self-attention\n",
    "            \"AttnUpBlock2D\",\n",
    "            \"UpBlock2D\",  # a regular ResNet upsampling block\n",
    "        ),\n",
    "        dropout = 0.1,  # Dropout prob between Conv1 and Conv2 in a block. From Improved DDPM paper\n",
    "    )\n",
    "\n",
    "  # Forward method takes the class labels as an additional argument\n",
    "  def forward(self, x, t, class_labels):\n",
    "    bs, ch, w, h = x.shape # x is shape (bs, 1, 28, 28)\n",
    "\n",
    "    # class conditioning embedding to add as additional input channels\n",
    "    class_cond = self.class_emb(class_labels) # Map to embedding dimension\n",
    "    class_cond = class_cond.view(bs, class_cond.shape[1], 1, 1).expand(bs, class_cond.shape[1], w, h)\n",
    "    # class_cond final shape (bs, 4, 28, 28)\n",
    "\n",
    "    # Model input is now x and class cond concatenated together along dimension 1\n",
    "    # We need provide additional information (the class label)\n",
    "    # to every spatial location (pixel) in the image. Not changing the original\n",
    "    # pixels of the images, but adding new channels.\n",
    "    net_input = torch.cat((x, class_cond), 1) # (bs, 5, 28, 28)\n",
    "\n",
    "    # Feed this to the UNet alongside the timestep and return the prediction\n",
    "    # with image output size\n",
    "    return self.model(net_input, t).sample # (bs, 1, 28, 28)\n",
    "  \n"
   ]
  },
  {
   "cell_type": "markdown",
   "metadata": {},
   "source": [
    "## Safe Model to Safetensors"
   ]
  },
  {
   "cell_type": "code",
   "execution_count": null,
   "metadata": {},
   "outputs": [],
   "source": [
    "# Load the model\n",
    "model_save_path = \"/home/ahuertas/work/Miscelanea/GenAI-FashionMNIST/notebooks/fashion_class_cond_unet_model_best/fashion_class_cond_unet_model_best.pth\"\n",
    "cond_unet_model_loaded = torch.load(model_save_path)"
   ]
  },
  {
   "cell_type": "code",
   "execution_count": 4,
   "metadata": {},
   "outputs": [],
   "source": [
    "# Define the path to save the SafeTensors file\n",
    "safetensors_model_path = \"/home/ahuertas/work/Miscelanea/GenAI-FashionMNIST/notebooks/fashion_class_cond_unet_model_best/fashion_class_cond_unet_model_best.safetensors\"\n",
    "\n",
    "# Save the model state dictionary as SafeTensors\n",
    "state_dict = cond_unet_model_loaded.state_dict()\n",
    "safetensors.torch.save_file(state_dict, safetensors_model_path)"
   ]
  },
  {
   "cell_type": "markdown",
   "metadata": {},
   "source": [
    "## Create Repo and Push to Huggingface Hub"
   ]
  },
  {
   "cell_type": "code",
   "execution_count": 12,
   "metadata": {},
   "outputs": [],
   "source": [
    "# Authenticate with Huggingface Hub\n",
    "notebook_login()\n",
    "\n",
    "# Define the model name\n",
    "model_name = \"conditioned-unet-fashion-mnist-non-ema\"\n",
    "hub_model_id = get_full_repo_name(model_name)\n",
    "create_repo(hub_model_id)\n",
    "api = HfApi()"
   ]
  },
  {
   "cell_type": "code",
   "execution_count": 12,
   "metadata": {},
   "outputs": [
    {
     "data": {
      "text/plain": [
       "CommitInfo(commit_url='https://huggingface.co/Huertas97/conditioned-unet-fashion-mnist-non-ema/commit/882419041559b7218a8ea5bb7cc108f731cc481f', commit_message='Upload README.md with huggingface_hub', commit_description='', oid='882419041559b7218a8ea5bb7cc108f731cc481f', pr_url=None, pr_revision=None, pr_num=None)"
      ]
     },
     "execution_count": 12,
     "metadata": {},
     "output_type": "execute_result"
    }
   ],
   "source": [
    "content = f\"\"\"\n",
    "---\n",
    "license: mit\n",
    "tags:\n",
    "- pytorch\n",
    "- diffusers\n",
    "- class-conditional-image-generation\n",
    "- diffusion-models-class\n",
    "---\n",
    "\n",
    "# Overview\n",
    "\n",
    "This model is a diffusion model for conditional image generation of  clothes from the FashionMNIST dataset. The model is a class-conditioned UNet that generates images of clothes conditioned on the class label.\n",
    "The code for this model can be found in this [GitHub repository](https://github.com/Huertas97/GenAI-FashionMNIST)\n",
    "\n",
    "## Usage\n",
    "\n",
    "As it is a Custom Class Model of the Diffusers library, it can be used as follows:\n",
    "\n",
    "Setup\n",
    "```python\t\n",
    "import json\n",
    "import torch\n",
    "import torchvision\n",
    "from matplotlib import pyplot as plt\n",
    "from tqdm.auto import tqdm\n",
    "from torch import nn\n",
    "from diffusers import UNet2DModel, DDPMScheduler\n",
    "import safetensors\n",
    "from huggingface_hub import hf_hub_download\n",
    "device = 'mps' if torch.backends.mps.is_available() else 'cuda' if torch.cuda.is_available() else 'cpu'\n",
    "```\n",
    "Load the ClassConditionedUnet model safetensor:\n",
    "```python\n",
    "# Custom Class\n",
    "class ClassConditionedUnet(nn.Module):\n",
    "  def __init__(self, num_classes=10, class_emb_size=10):\n",
    "    super().__init__()\n",
    "\n",
    "    # The embedding layer will map the class label to a vector of size class_emb_size\n",
    "    self.class_emb = nn.Embedding(num_classes, class_emb_size)\n",
    "\n",
    "    # Self.model is an unconditional UNet with extra input channels\n",
    "    # to accept the conditioning information (the class embedding)\n",
    "    self.model = UNet2DModel(\n",
    "        sample_size=28,           # output image resolution. Equal to input resolution\n",
    "        in_channels=1 + class_emb_size, # Additional input channels for class cond\n",
    "        out_channels=1,           # the number of output channels. Equal to input\n",
    "        layers_per_block=3,       # three residual connections (ResNet) per block\n",
    "        block_out_channels=(128, 256, 512), # N of output channels for each block. Inverse for upsampling\n",
    "        down_block_types=(\n",
    "            \"DownBlock2D\",  # a regular ResNet downsampling block\n",
    "            \"AttnDownBlock2D\",\n",
    "            \"AttnDownBlock2D\",  # a ResNet downsampling block with spatial self-attention\n",
    "        ),\n",
    "        up_block_types=(\n",
    "            \"AttnUpBlock2D\",  # a ResNet upsampling block with spatial self-attention\n",
    "            \"AttnUpBlock2D\",\n",
    "            \"UpBlock2D\",  # a regular ResNet upsampling block\n",
    "        ),\n",
    "        dropout = 0.1,  # Dropout prob between Conv1 and Conv2 in a block. From Improved DDPM paper\n",
    "    )\n",
    "\n",
    "  # Forward method takes the class labels as an additional argument\n",
    "  def forward(self, x, t, class_labels):\n",
    "    bs, ch, w, h = x.shape # x is shape (bs, 1, 28, 28)\n",
    "\n",
    "    # class conditioning embedding to add as additional input channels\n",
    "    class_cond = self.class_emb(class_labels) # Map to embedding dimension\n",
    "    class_cond = class_cond.view(bs, class_cond.shape[1], 1, 1).expand(bs, class_cond.shape[1], w, h)\n",
    "    # class_cond final shape (bs, 4, 28, 28)\n",
    "\n",
    "    # Model input is now x and class cond concatenated together along dimension 1\n",
    "    # We need provide additional information (the class label)\n",
    "    # to every spatial location (pixel) in the image. Not changing the original\n",
    "    # pixels of the images, but adding new channels.\n",
    "    net_input = torch.cat((x, class_cond), 1) # (bs, 5, 28, 28)\n",
    "\n",
    "    # Feed this to the UNet alongside the timestep and return the prediction\n",
    "    # with image output size\n",
    "    return self.model(net_input, t).sample # (bs, 1, 28, 28)\n",
    "\n",
    "# Define paths to download the model and scheduler\n",
    "repo_name = \"Huertas97/conditioned-unet-fashion-mnist-non-ema\"\n",
    "\n",
    "# Download the safetensors model file\n",
    "model_file_path = hf_hub_download(repo_id=repo_name, filename=\"fashion_class_cond_unet_model_best.safetensors\")\n",
    "\n",
    "# # Load the Class Conditioned UNet model state dictionary\n",
    "state_dict = safetensors.torch.load_file(model_file_path)\n",
    "model_classcond_native =  ClassConditionedUnet()\n",
    "model_classcond_native.load_state_dict(state_dict).to(device)\n",
    "```\n",
    "\n",
    "Load the DDPMScheduler:\n",
    "```python\n",
    "# Download and load the scheduler configuration file\n",
    "scheduler_file_path = hf_hub_download(repo_id=repo_name, filename=\"scheduler_config.json\")\n",
    "\n",
    "with open(scheduler_file_path, 'r') as f:\n",
    "    scheduler_config = json.load(f)\n",
    "\n",
    "noise_scheduler = DDPMScheduler.from_config(scheduler_config)\n",
    "```\n",
    "\n",
    "\n",
    "Use the model to generate images:\n",
    "\n",
    "```python\n",
    "desired_class = [7] # desired class from 0 -> 9\n",
    "num_samples = 2  # num of images to generate per class\n",
    "\n",
    "# Prepare random x to start from\n",
    "x = torch.randn(num_samples*len(desired_class), 1, 28, 28).to(device)\n",
    "\n",
    "# Prepare the desired classes\n",
    "y = torch.tensor([[i]*num_samples for i in desired_class]).flatten().to(device)\n",
    "\n",
    "model_classcond_native = model_classcond_native.to(device)\n",
    "\n",
    "# Sampling loop\n",
    "for i, t in tqdm(enumerate(noise_scheduler.timesteps)):\n",
    "  # Get model pred\n",
    "  with torch.no_grad():\n",
    "      residual = model_classcond_native(x, t, y)\n",
    "\n",
    "  # Update sample with step\n",
    "  x = noise_scheduler.step(residual, t, x).prev_sample\n",
    "\n",
    "# Show the results\n",
    "fig, ax = plt.subplots(1, 1, figsize=(12, 12))\n",
    "ax.imshow(torchvision.utils.make_grid(x.detach().cpu().clip(-1, 1), nrow=8)[0], cmap='Greys')\n",
    "```\n",
    "\"\"\"\n",
    "\n",
    "hub_model_id = \"Huertas97/conditioned-unet-fashion-mnist-non-ema\"\n",
    "# Model card\n",
    "card = ModelCard(content)\n",
    "card.push_to_hub(hub_model_id)\n",
    "\n",
    "# # Push safetensor model\n",
    "# api.upload_file(\n",
    "#     path_or_fileobj=safetensors_model_path,\n",
    "#     path_in_repo=\"fashion_class_cond_unet_model_best.safetensors\",\n",
    "#     repo_id=hub_model_id,\n",
    "#     repo_type=\"model\",\n",
    "# )\n",
    "\n",
    "# # Push scheduler config\n",
    "# scheduler_save_path = \"/home/ahuertas/work/Miscelanea/GenAI-FashionMNIST/notebooks/fashion_class_cond_unet_model_best/scheduler/scheduler_config.json\"\n",
    "# api.upload_file(\n",
    "#     path_or_fileobj=scheduler_save_path,\n",
    "#     path_in_repo=\"scheduler_config.json\",\n",
    "#     repo_id=hub_model_id,\n",
    "#     repo_type=\"model\",\n",
    "# )"
   ]
  },
  {
   "cell_type": "markdown",
   "metadata": {},
   "source": [
    "## Load from the huggingFace Hub"
   ]
  },
  {
   "cell_type": "code",
   "execution_count": 3,
   "metadata": {},
   "outputs": [],
   "source": [
    "# Define paths to download the model and scheduler\n",
    "repo_name = \"Huertas97/conditioned-unet-fashion-mnist-non-ema\"\n",
    "\n",
    "# Download the safetensors model file\n",
    "model_file_path = hf_hub_download(repo_id=repo_name, filename=\"fashion_class_cond_unet_model_best.safetensors\")\n",
    "\n",
    "# # Load the Class Conditioned UNet model state dictionary\n",
    "state_dict = safetensors.torch.load_file(model_file_path)\n",
    "model_classcond_native =  ClassConditionedUnet()\n",
    "model_classcond_native.load_state_dict(state_dict)\n",
    "\n",
    "# Download and load the scheduler configuration file\n",
    "scheduler_file_path = hf_hub_download(repo_id=repo_name, filename=\"scheduler_config.json\")\n",
    "\n",
    "with open(scheduler_file_path, 'r') as f:\n",
    "    scheduler_config = json.load(f)\n",
    "\n",
    "noise_scheduler = DDPMScheduler.from_config(scheduler_config)\n"
   ]
  },
  {
   "cell_type": "markdown",
   "metadata": {},
   "source": [
    "#### Test the loaded model"
   ]
  },
  {
   "cell_type": "code",
   "execution_count": 12,
   "metadata": {},
   "outputs": [
    {
     "data": {
      "application/vnd.jupyter.widget-view+json": {
       "model_id": "501c3c847b24420780f90aefcffbfa06",
       "version_major": 2,
       "version_minor": 0
      },
      "text/plain": [
       "0it [00:00, ?it/s]"
      ]
     },
     "metadata": {},
     "output_type": "display_data"
    },
    {
     "data": {
      "text/plain": [
       "<matplotlib.image.AxesImage at 0x7f7ef93d2bf0>"
      ]
     },
     "execution_count": 12,
     "metadata": {},
     "output_type": "execute_result"
    },
    {
     "data": {
      "image/png": "[encoded data removed]",
      "text/plain": [
       "<Figure size 1200x1200 with 1 Axes>"
      ]
     },
     "metadata": {},
     "output_type": "display_data"
    }
   ],
   "source": [
    "desired_class = [7] # desired class from 0 -> 9\n",
    "num_samples = 2  # num of images to generate per class\n",
    "\n",
    "# Prepare random x to start from\n",
    "x = torch.randn(num_samples*len(desired_class), 1, 28, 28).to(device)\n",
    "\n",
    "# Prepare the desired classes\n",
    "y = torch.tensor([[i]*num_samples for i in desired_class]).flatten().to(device)\n",
    "\n",
    "model_classcond_native = model_classcond_native.to(device)\n",
    "\n",
    "# Sampling loop\n",
    "for i, t in tqdm(enumerate(noise_scheduler.timesteps)):\n",
    "  # Get model pred\n",
    "  with torch.no_grad():\n",
    "      residual = model_classcond_native(x, t, y)\n",
    "\n",
    "  # Update sample with step\n",
    "  x = noise_scheduler.step(residual, t, x).prev_sample\n",
    "\n",
    "# Show the results\n",
    "fig, ax = plt.subplots(1, 1, figsize=(12, 12))\n",
    "ax.imshow(torchvision.utils.make_grid(x.detach().cpu().clip(-1, 1), nrow=8)[0], cmap='Greys')"
   ]
  }
 ],
 "metadata": {
  "kernelspec": {
   "display_name": "PATAFEST_ENV",
   "language": "python",
   "name": "python3"
  },
  "language_info": {
   "codemirror_mode": {
    "name": "ipython",
    "version": 3
   },
   "file_extension": ".py",
   "mimetype": "text/x-python",
   "name": "python",
   "nbconvert_exporter": "python",
   "pygments_lexer": "ipython3",
   "version": "3.10.8"
  }
 },
 "nbformat": 4,
 "nbformat_minor": 2
}
